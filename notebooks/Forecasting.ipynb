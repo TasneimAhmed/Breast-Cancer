{
  "nbformat": 4,
  "nbformat_minor": 0,
  "metadata": {
    "colab": {
      "provenance": []
    },
    "kernelspec": {
      "name": "python3",
      "display_name": "Python 3"
    },
    "language_info": {
      "name": "python"
    }
  },
  "cells": [
    {
      "cell_type": "markdown",
      "source": [
        "## import joblib and forecasting from saved model"
      ],
      "metadata": {
        "id": "ZBZb6lWYLSNf"
      }
    },
    {
      "cell_type": "code",
      "execution_count": 1,
      "metadata": {
        "id": "rsQ5OiK4K2aN"
      },
      "outputs": [],
      "source": [
        "import joblib\n",
        "import pandas as pd\n",
        "filename = 'breast_cancer_model.sav'\n"
      ]
    },
    {
      "cell_type": "code",
      "source": [
        "with open(filename, 'rb') as f:\n",
        "    model = joblib.load(f)\n",
        "\n",
        "ypredict = model.predict([[0.167369 ,\t0.086320,\t0.396678,\t0.162444,\t0.055740,\t0.080268\t,0.422727,\t0.280750,\t0.153682\t,0.671537,\t0.137308\t,0.066482,\t0.519910,\t0.109158,\t0.089856\t,0.210859\t,0.363493,\t0.173357 , 0.137308\t,0.066482,\t0.519910,\t0.109158,\t0.089856\t,0.210859\t,0.363493,\t0.173357 ,0.137308\t,0.066482,\t0.519910,\t0.109158]])"
      ],
      "metadata": {
        "colab": {
          "base_uri": "https://localhost:8080/"
        },
        "id": "DSyj4HYALas9",
        "outputId": "431c9dc8-5828-4634-f46f-9c2e65b9a1c4"
      },
      "execution_count": 5,
      "outputs": [
        {
          "output_type": "stream",
          "name": "stderr",
          "text": [
            "/usr/local/lib/python3.10/dist-packages/sklearn/base.py:493: UserWarning: X does not have valid feature names, but MLPClassifier was fitted with feature names\n",
            "  warnings.warn(\n"
          ]
        }
      ]
    },
    {
      "cell_type": "code",
      "source": [
        "ypredict"
      ],
      "metadata": {
        "colab": {
          "base_uri": "https://localhost:8080/"
        },
        "id": "VC7o-UcaNNlK",
        "outputId": "62872180-dca3-45bf-97db-8f8d369d717b"
      },
      "execution_count": 6,
      "outputs": [
        {
          "output_type": "execute_result",
          "data": {
            "text/plain": [
              "array([1])"
            ]
          },
          "metadata": {},
          "execution_count": 6
        }
      ]
    },
    {
      "cell_type": "code",
      "source": [],
      "metadata": {
        "id": "Ld8-XA5-Nfhb"
      },
      "execution_count": null,
      "outputs": []
    }
  ]
}